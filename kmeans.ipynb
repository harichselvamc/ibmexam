{
 "cells": [
  {
   "cell_type": "code",
   "execution_count": 1,
   "metadata": {},
   "outputs": [],
   "source": [
    "import numpy as np\n",
    "from sklearn.cluster import KMeans\n",
    "import matplotlib.pyplot as plt\n"
   ]
  },
  {
   "cell_type": "code",
   "execution_count": 2,
   "metadata": {},
   "outputs": [],
   "source": [
    "\n",
    "# Generate more example data\n",
    "X = np.random.rand(20, 2)  \n"
   ]
  },
  {
   "cell_type": "code",
   "execution_count": 3,
   "metadata": {},
   "outputs": [
    {
     "data": {
      "text/plain": [
       "numpy.ndarray"
      ]
     },
     "execution_count": 3,
     "metadata": {},
     "output_type": "execute_result"
    }
   ],
   "source": [
    "type(X)"
   ]
  },
  {
   "cell_type": "code",
   "execution_count": 4,
   "metadata": {},
   "outputs": [
    {
     "data": {
      "text/plain": [
       "array([[0.76643402, 0.1247063 ],\n",
       "       [0.07962784, 0.47831182],\n",
       "       [0.2350579 , 0.07462352],\n",
       "       [0.70754098, 0.12556203],\n",
       "       [0.49497515, 0.28160283],\n",
       "       [0.19398426, 0.93546817],\n",
       "       [0.24885129, 0.2727459 ],\n",
       "       [0.21673135, 0.14136846],\n",
       "       [0.61597113, 0.69930841],\n",
       "       [0.86344576, 0.81470123],\n",
       "       [0.50810897, 0.02129758],\n",
       "       [0.03630664, 0.25000441],\n",
       "       [0.32022553, 0.18295128],\n",
       "       [0.99275004, 0.11108247],\n",
       "       [0.03009094, 0.67110414],\n",
       "       [0.94367674, 0.93426984],\n",
       "       [0.19339071, 0.63532972],\n",
       "       [0.45452   , 0.88583006],\n",
       "       [0.99684162, 0.65580684],\n",
       "       [0.44160863, 0.23769183]])"
      ]
     },
     "execution_count": 4,
     "metadata": {},
     "output_type": "execute_result"
    }
   ],
   "source": [
    "X"
   ]
  },
  {
   "cell_type": "code",
   "execution_count": 5,
   "metadata": {},
   "outputs": [
    {
     "data": {
      "text/plain": [
       "20"
      ]
     },
     "execution_count": 5,
     "metadata": {},
     "output_type": "execute_result"
    }
   ],
   "source": [
    "len(X)"
   ]
  },
  {
   "cell_type": "code",
   "execution_count": 6,
   "metadata": {},
   "outputs": [],
   "source": [
    "X=X*10"
   ]
  },
  {
   "cell_type": "code",
   "execution_count": 7,
   "metadata": {},
   "outputs": [
    {
     "data": {
      "text/plain": [
       "array([[7.66434015, 1.24706302],\n",
       "       [0.79627843, 4.78311822],\n",
       "       [2.35057902, 0.74623522],\n",
       "       [7.07540983, 1.25562028],\n",
       "       [4.9497515 , 2.81602826],\n",
       "       [1.93984264, 9.35468169],\n",
       "       [2.48851292, 2.72745901],\n",
       "       [2.1673135 , 1.41368456],\n",
       "       [6.15971126, 6.99308409],\n",
       "       [8.63445761, 8.14701234],\n",
       "       [5.08108974, 0.21297584],\n",
       "       [0.3630664 , 2.50004409],\n",
       "       [3.20225532, 1.82951278],\n",
       "       [9.92750044, 1.11082471],\n",
       "       [0.30090943, 6.71104141],\n",
       "       [9.43676737, 9.3426984 ],\n",
       "       [1.93390715, 6.35329721],\n",
       "       [4.54519998, 8.85830064],\n",
       "       [9.9684162 , 6.55806842],\n",
       "       [4.41608633, 2.37691832]])"
      ]
     },
     "execution_count": 7,
     "metadata": {},
     "output_type": "execute_result"
    }
   ],
   "source": [
    "X"
   ]
  },
  {
   "cell_type": "code",
   "execution_count": 9,
   "metadata": {},
   "outputs": [
    {
     "data": {
      "text/plain": [
       "array([7.66434015, 0.79627843, 2.35057902, 7.07540983, 4.9497515 ,\n",
       "       1.93984264, 2.48851292, 2.1673135 , 6.15971126, 8.63445761,\n",
       "       5.08108974, 0.3630664 , 3.20225532, 9.92750044, 0.30090943,\n",
       "       9.43676737, 1.93390715, 4.54519998, 9.9684162 , 4.41608633])"
      ]
     },
     "execution_count": 9,
     "metadata": {},
     "output_type": "execute_result"
    }
   ],
   "source": [
    "X[:,0]"
   ]
  },
  {
   "cell_type": "code",
   "execution_count": 10,
   "metadata": {},
   "outputs": [
    {
     "data": {
      "text/plain": [
       "array([1.24706302, 4.78311822, 0.74623522, 1.25562028, 2.81602826,\n",
       "       9.35468169, 2.72745901, 1.41368456, 6.99308409, 8.14701234,\n",
       "       0.21297584, 2.50004409, 1.82951278, 1.11082471, 6.71104141,\n",
       "       9.3426984 , 6.35329721, 8.85830064, 6.55806842, 2.37691832])"
      ]
     },
     "execution_count": 10,
     "metadata": {},
     "output_type": "execute_result"
    }
   ],
   "source": [
    "X[:,1]"
   ]
  },
  {
   "cell_type": "code",
   "execution_count": 11,
   "metadata": {},
   "outputs": [
    {
     "name": "stderr",
     "output_type": "stream",
     "text": [
      "c:\\Users\\haric\\anaconda3\\Lib\\site-packages\\sklearn\\cluster\\_kmeans.py:870: FutureWarning: The default value of `n_init` will change from 10 to 'auto' in 1.4. Set the value of `n_init` explicitly to suppress the warning\n",
      "  warnings.warn(\n",
      "c:\\Users\\haric\\anaconda3\\Lib\\site-packages\\sklearn\\cluster\\_kmeans.py:1382: UserWarning: KMeans is known to have a memory leak on Windows with MKL, when there are less chunks than available threads. You can avoid it by setting the environment variable OMP_NUM_THREADS=1.\n",
      "  warnings.warn(\n"
     ]
    }
   ],
   "source": [
    "\n",
    "# Set the number of clusters\n",
    "kmeans = KMeans(n_clusters=3, random_state=0).fit(X)\n",
    "\n"
   ]
  },
  {
   "cell_type": "code",
   "execution_count": 12,
   "metadata": {},
   "outputs": [
    {
     "data": {
      "text/plain": [
       "'clusterer'"
      ]
     },
     "execution_count": 12,
     "metadata": {},
     "output_type": "execute_result"
    }
   ],
   "source": [
    "kmeans._estimator_type"
   ]
  },
  {
   "cell_type": "code",
   "execution_count": 13,
   "metadata": {},
   "outputs": [
    {
     "name": "stdout",
     "output_type": "stream",
     "text": [
      "Cluster centers:\n",
      " [[5.20381398 1.44542922]\n",
      " [1.30375283 5.40494027]\n",
      " [7.74891049 7.97983278]]\n"
     ]
    }
   ],
   "source": [
    "# Print cluster centers\n",
    "print(\"Cluster centers:\\n\", kmeans.cluster_centers_)\n"
   ]
  },
  {
   "cell_type": "code",
   "execution_count": 14,
   "metadata": {},
   "outputs": [
    {
     "name": "stdout",
     "output_type": "stream",
     "text": [
      "Labels: [0 1 0 0 0 1 1 0 2 2 0 1 0 0 1 2 1 2 2 0]\n"
     ]
    }
   ],
   "source": [
    "\n",
    "# Predict the cluster for each data point\n",
    "labels = kmeans.predict(X)\n",
    "print(\"Labels:\", labels)\n",
    "\n"
   ]
  },
  {
   "cell_type": "code",
   "execution_count": 15,
   "metadata": {},
   "outputs": [
    {
     "data": {
      "image/png": "[encoded data removed]",
      "text/plain": [
       "<Figure size 640x480 with 1 Axes>"
      ]
     },
     "metadata": {},
     "output_type": "display_data"
    }
   ],
   "source": [
    "\n",
    "# Plot the data points and cluster centers\n",
    "plt.scatter(X[:, 0], X[:, 1], c=labels, cmap='viridis')\n",
    "plt.scatter(kmeans.cluster_centers_[:, 0], kmeans.cluster_centers_[:, 1], s=300, c='red', marker='X')\n",
    "plt.title(\"K-Means Clustering\")\n",
    "plt.xlabel(\"Feature 1\")\n",
    "plt.ylabel(\"Feature 2\")\n",
    "plt.show()"
   ]
  },
  {
   "cell_type": "code",
   "execution_count": null,
   "metadata": {},
   "outputs": [],
   "source": []
  }
 ],
 "metadata": {
  "kernelspec": {
   "display_name": "base",
   "language": "python",
   "name": "python3"
  },
  "language_info": {
   "codemirror_mode": {
    "name": "ipython",
    "version": 3
   },
   "file_extension": ".py",
   "mimetype": "text/x-python",
   "name": "python",
   "nbconvert_exporter": "python",
   "pygments_lexer": "ipython3",
   "version": "3.11.7"
  }
 },
 "nbformat": 4,
 "nbformat_minor": 2
}
